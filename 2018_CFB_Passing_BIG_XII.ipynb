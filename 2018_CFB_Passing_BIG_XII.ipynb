{
 "cells": [
  {
   "cell_type": "markdown",
   "id": "7f189864",
   "metadata": {},
   "source": [
    "# Set up environ and load in data"
   ]
  },
  {
   "cell_type": "code",
   "execution_count": null,
   "id": "4fd06b1d",
   "metadata": {},
   "outputs": [],
   "source": [
    "import numpy as np\n",
    "import pandas as pd\n",
    "import plotly.express as px"
   ]
  },
  {
   "cell_type": "code",
   "execution_count": null,
   "id": "70653cb8",
   "metadata": {
    "scrolled": true
   },
   "outputs": [],
   "source": [
    "data = pd.read_csv(\"https://raw.githubusercontent.com/tmcmurrain/CFB_BIGXII_PASSING_EDA/main/passing_bigxii.csv\")\n",
    "df = pd.DataFrame(data, index=None)\n",
    "df"
   ]
  },
  {
   "cell_type": "markdown",
   "id": "b06e4553",
   "metadata": {},
   "source": [
    "# Graph data for exploration"
   ]
  },
  {
   "cell_type": "code",
   "execution_count": null,
   "id": "d89808c0",
   "metadata": {},
   "outputs": [],
   "source": [
    "fig = px.line(df, x = 'Player', y = 'Pct')\n",
    "fig.show()"
   ]
  },
  {
   "cell_type": "markdown",
   "id": "152cdc33",
   "metadata": {},
   "source": [
    "# Remove 0% Pct and less than 60 Att"
   ]
  },
  {
   "cell_type": "code",
   "execution_count": null,
   "id": "a310c7e6",
   "metadata": {},
   "outputs": [],
   "source": [
    "df = df.loc[df['Pct'] > 0]\n",
    "df = df.loc[df['Att'] > 60]\n",
    "df"
   ]
  },
  {
   "cell_type": "markdown",
   "id": "b66b3bee",
   "metadata": {},
   "source": [
    "# Add TD-INT ratio"
   ]
  },
  {
   "cell_type": "code",
   "execution_count": null,
   "id": "88ce56fc",
   "metadata": {},
   "outputs": [],
   "source": [
    "df.insert(1, \"TD_INT_ratio\", df['TD']/df['Int'], True)\n",
    "df.head()"
   ]
  },
  {
   "cell_type": "code",
   "execution_count": null,
   "id": "1acdb828",
   "metadata": {
    "scrolled": true
   },
   "outputs": [],
   "source": [
    "df.round(2).head()"
   ]
  },
  {
   "cell_type": "markdown",
   "id": "182fce08",
   "metadata": {},
   "source": [
    "# Concat QB Name and Team"
   ]
  },
  {
   "cell_type": "code",
   "execution_count": null,
   "id": "d2f7be27",
   "metadata": {
    "scrolled": true
   },
   "outputs": [],
   "source": [
    "df['QB'] = df['Player'] + ' - ' + df['Team']\n",
    "df['QB']"
   ]
  },
  {
   "cell_type": "code",
   "execution_count": null,
   "id": "9bb0b67a",
   "metadata": {
    "scrolled": true
   },
   "outputs": [],
   "source": [
    "df_count = {}\n",
    "df_qbs = list(df['Player'])\n",
    "df_team = list(df['Team'])\n",
    "\n",
    "x = zip(df_qbs, df_team)\n",
    "qb_by_team = dict(x)\n",
    "qb_by_team"
   ]
  },
  {
   "cell_type": "code",
   "execution_count": null,
   "id": "f365b365",
   "metadata": {},
   "outputs": [],
   "source": [
    "from collections import Counter\n",
    "counter = Counter(qb_by_team)\n",
    "counts_counter = Counter(counter.values())\n",
    "counts_counter\n",
    "#print(f'Num of QBs used by teams: {counts_counter}')"
   ]
  },
  {
   "cell_type": "markdown",
   "id": "604962e2",
   "metadata": {},
   "source": [
    "# DATA VIZ"
   ]
  },
  {
   "cell_type": "code",
   "execution_count": null,
   "id": "c46cf9ee",
   "metadata": {
    "scrolled": false
   },
   "outputs": [],
   "source": [
    "fig = px.bar(df, x = 'QB', y = 'Pct', color = 'YPA', opacity = .8, title = \"Completion % by QB\")\n",
    "fig.update_layout(barmode='stack', xaxis={'categoryorder':'total ascending'}, title_x = 0.5)\n",
    "\n",
    "fig2 = px.bar(df, x = 'QB', y = 'Att', color = 'TD_INT_ratio', opacity = .8, title = \"TD - INT ratio by QB\")\n",
    "fig2.update_layout(barmode='stack', xaxis={'categoryorder':'total ascending'}, title_x = 0.5)\n",
    "\n",
    "fig3 = px.bar(df, y ='QB', x = ['Att', 'Cmp'])\n",
    "#fig3.update_layout(yaxis={'categoryorder':'total ascending'})\n",
    "\n",
    "fig4 = px.bar(df, x = 'Yds', y = 'QB', color = 'YPA', orientation = 'h')\n",
    "fig4.update_layout(xaxis={'categoryorder': 'total descending'},yaxis={'categoryorder': 'total descending'})\n",
    "\n",
    "fig5 = px.bar(df, x = 'Yds', y = 'QB', color = 'TD', orientation = 'h')\n",
    "fig5.update_layout(xaxis={'categoryorder': 'total descending'}, yaxis={'categoryorder': 'total descending'})\n",
    "\n",
    "fig.show(),fig2.show(),fig3.show(),fig4.show(),fig5.show()"
   ]
  },
  {
   "cell_type": "markdown",
   "id": "6af2c307",
   "metadata": {},
   "source": [
    "# Set threshold of > 7.0 YPA for Prospects"
   ]
  },
  {
   "cell_type": "code",
   "execution_count": null,
   "id": "722a4583",
   "metadata": {},
   "outputs": [],
   "source": [
    "df_ypa_gt7 = df.copy()\n",
    "df_ypa_gt7 = df_ypa_gt7.loc[df_ypa_gt7['YPA'] >= 7]"
   ]
  },
  {
   "cell_type": "code",
   "execution_count": null,
   "id": "5ee3fbbc",
   "metadata": {
    "scrolled": false
   },
   "outputs": [],
   "source": [
    "fig = px.bar(df_ypa_gt7, x = 'QB', y = 'Pct', color = 'Att', opacity = .8, title = \"Completion % by QB with > 7.0 YPA\")\n",
    "fig.update_layout(barmode='stack', xaxis={'categoryorder':'total ascending'}, title_x = 0.5)\n",
    "\n",
    "fig2 = px.bar(df_ypa_gt7, x = 'QB', y = 'Att', color = 'TD_INT_ratio', opacity = .8, title = \"TD - INT ratio by QB with YPA > 7.0\")\n",
    "fig2.update_layout(barmode='stack', xaxis={'categoryorder':'total ascending'}, title_x = 0.5)\n",
    "\n",
    "fig3 = px.bar(df_ypa_gt7, x = 'QB', y = 'Att', color = 'Int', opacity = .8, title = \"Passing Att by QB with YPA > 7.0\")\n",
    "fig3.update_layout(barmode='stack', xaxis={'categoryorder':'total ascending'}, title_x = 0.5)\n",
    "\n",
    "fig.show()\n",
    "fig2.show()\n",
    "fig3.show()"
   ]
  },
  {
   "cell_type": "markdown",
   "id": "7d0cdac7",
   "metadata": {},
   "source": [
    "# Summary"
   ]
  },
  {
   "cell_type": "code",
   "execution_count": null,
   "id": "6cdb17ce",
   "metadata": {
    "scrolled": true
   },
   "outputs": [],
   "source": [
    "highest_YPA = float(df['YPA'].max())\n",
    "#highest_YPA\n",
    "QB_name = df.loc[df['YPA'] == highest_YPA, 'QB'].reset_index(drop=True)\n",
    "QB_name_YPA = tuple(QB_name)\n",
    "top2_YPA = df['YPA'].nlargest(2)[0:]\n",
    "#top2_YPA"
   ]
  },
  {
   "cell_type": "code",
   "execution_count": null,
   "id": "8c4412ea",
   "metadata": {
    "scrolled": true
   },
   "outputs": [],
   "source": [
    "df['QB']"
   ]
  },
  {
   "cell_type": "code",
   "execution_count": null,
   "id": "f080fca9",
   "metadata": {},
   "outputs": [],
   "source": [
    "highest_TD_INT_ratio = float(df['TD_INT_ratio'].max())\n",
    "#highest_TD_INT_ratio\n",
    "QB_name = df.loc[df['TD_INT_ratio'] == highest_TD_INT_ratio, 'QB'].reset_index(drop=True)\n",
    "QB_name_TDINT = tuple(QB_name)"
   ]
  },
  {
   "cell_type": "code",
   "execution_count": null,
   "id": "9cf758f8",
   "metadata": {},
   "outputs": [],
   "source": [
    "highest_pct = float(df['Pct'].max())\n",
    "QB_name = df.loc[df['Pct'] == highest_pct, 'QB']\n",
    "QB_name_pct = tuple(QB_name)"
   ]
  },
  {
   "cell_type": "code",
   "execution_count": null,
   "id": "0662cf15",
   "metadata": {},
   "outputs": [],
   "source": [
    "print(f'The QB with the highest YPA is: {QB_name_YPA} with a YPA of {highest_YPA} yds per att.')\n",
    "print(f'The QB with the highest TD-INT ratio is: {QB_name_TDINT} with a YPA of {highest_TD_INT_ratio} TDs-INTs.')\n",
    "print(f'The QB with the highest completion percentage is: {QB_name_pct} with a completion percentage of {highest_pct}%.')"
   ]
  },
  {
   "cell_type": "code",
   "execution_count": null,
   "id": "fcaf5f38",
   "metadata": {},
   "outputs": [],
   "source": []
  }
 ],
 "metadata": {
  "kernelspec": {
   "display_name": "Python 3 (ipykernel)",
   "language": "python",
   "name": "python3"
  },
  "language_info": {
   "codemirror_mode": {
    "name": "ipython",
    "version": 3
   },
   "file_extension": ".py",
   "mimetype": "text/x-python",
   "name": "python",
   "nbconvert_exporter": "python",
   "pygments_lexer": "ipython3",
   "version": "3.9.7"
  }
 },
 "nbformat": 4,
 "nbformat_minor": 5
}
